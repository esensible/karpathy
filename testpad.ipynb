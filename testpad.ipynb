{
 "cells": [
  {
   "cell_type": "code",
   "execution_count": null,
   "metadata": {},
   "outputs": [],
   "source": [
    "import torch\n",
    "import matplotlib.pyplot as plt\n",
    "%matplotlib inline\n",
    "\n",
    "def gen():\n",
    "    # my laptop blows chunks\n",
    "    return torch.Generator(device='cpu').manual_seed(2147483647)\n"
   ]
  },
  {
   "cell_type": "code",
   "execution_count": null,
   "metadata": {},
   "outputs": [],
   "source": [
    "raw_names = open('names.txt').read().splitlines()\n",
    "names = (['.'] + list(n.lower()) + ['.'] for n in raw_names)\n",
    "pairs = (a + b for n in names for a, b in zip(n, n[1:]))\n",
    "\n",
    "counts = {}\n",
    "for p in pairs:\n",
    "    counts[p] = counts.get(p, 0) + 1\n",
    "\n",
    "itos = {i+1: chr(ord('a') + i) for i in range(26)}\n",
    "itos[0] = '.'\n",
    "stoi = {v: k for k, v in itos.items()}\n",
    "\n",
    "count_tensor = torch.zeros((27, 27), dtype=torch.int32)\n",
    "for k, v in counts.items():\n",
    "    count_tensor[stoi[k[0]], stoi[k[1]]] = v\n",
    "\n",
    "# smoothing\n",
    "probs = (count_tensor+1).float()\n",
    "\n",
    "# normalise\n",
    "probs /= probs.sum(1, keepdim=True)\n",
    "\n"
   ]
  },
  {
   "cell_type": "code",
   "execution_count": null,
   "metadata": {},
   "outputs": [],
   "source": [
    "\n",
    "# cut and paste from Andrej\n",
    "\n",
    "def plot_probs(N, itos=itos):\n",
    "    plt.figure(figsize=(16,16), dpi=100)\n",
    "    plt.imshow(N, cmap='Blues')\n",
    "    for i in range(27):\n",
    "        for j in range(27):\n",
    "            chstr = itos[i] + itos[j]\n",
    "            plt.text(j, i, chstr, ha=\"center\", va=\"bottom\", color='gray')\n",
    "            plt.text(j, i, N[i, j].item(), ha=\"center\", va=\"top\", color='gray')\n",
    "    plt.axis('off');\n",
    "\n",
    "plot_probs(count_tensor)"
   ]
  },
  {
   "cell_type": "code",
   "execution_count": null,
   "metadata": {},
   "outputs": [],
   "source": [
    "\n",
    "def generate_name(generator):\n",
    "    name = ''\n",
    "    idx = 0\n",
    "    while True:\n",
    "        idx = torch.multinomial(probs[idx], num_samples=1, replacement=True, generator=generator)[0].item()\n",
    "        if idx == 0: \n",
    "            break\n",
    "        name += itos[idx]\n",
    "    return name\n",
    "\n"
   ]
  },
  {
   "cell_type": "code",
   "execution_count": null,
   "metadata": {},
   "outputs": [],
   "source": [
    "generator = gen()\n",
    "\n",
    "for _ in range(10):\n",
    "    print(generate_name(generator))"
   ]
  },
  {
   "cell_type": "code",
   "execution_count": null,
   "metadata": {},
   "outputs": [],
   "source": [
    "def loss_fn(probs, target):\n",
    "    target = [0] + [stoi[i] for i in target] + [0]\n",
    "    return -torch.log(probs[target[:-1], target[1:]])\n",
    "    "
   ]
  },
  {
   "cell_type": "code",
   "execution_count": null,
   "metadata": {},
   "outputs": [],
   "source": [
    "sum(loss_fn(probs, name).sum() for name in raw_names) / sum(len(w)+1 for w in raw_names) "
   ]
  }
 ],
 "metadata": {
  "kernelspec": {
   "display_name": "Python 3",
   "language": "python",
   "name": "python3"
  },
  "language_info": {
   "codemirror_mode": {
    "name": "ipython",
    "version": 3
   },
   "file_extension": ".py",
   "mimetype": "text/x-python",
   "name": "python",
   "nbconvert_exporter": "python",
   "pygments_lexer": "ipython3",
   "version": "3.8.10"
  },
  "orig_nbformat": 4,
  "vscode": {
   "interpreter": {
    "hash": "e7370f93d1d0cde622a1f8e1c04877d8463912d04d973331ad4851f04de6915a"
   }
  }
 },
 "nbformat": 4,
 "nbformat_minor": 2
}
